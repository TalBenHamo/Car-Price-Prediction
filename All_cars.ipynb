{
 "cells": [
  {
   "cell_type": "code",
   "execution_count": 4,
   "id": "caf2cd2f",
   "metadata": {
    "scrolled": true
   },
   "outputs": [
    {
     "name": "stderr",
     "output_type": "stream",
     "text": [
      "C:\\Users\\tal66\\AppData\\Local\\Temp\\ipykernel_43092\\2133301973.py:17: FutureWarning: The frame.append method is deprecated and will be removed from pandas in a future version. Use pandas.concat instead.\n",
      "  combined_data = combined_data.append(df, ignore_index=True)\n",
      "C:\\Users\\tal66\\AppData\\Local\\Temp\\ipykernel_43092\\2133301973.py:17: FutureWarning: The frame.append method is deprecated and will be removed from pandas in a future version. Use pandas.concat instead.\n",
      "  combined_data = combined_data.append(df, ignore_index=True)\n",
      "C:\\Users\\tal66\\AppData\\Local\\Temp\\ipykernel_43092\\2133301973.py:17: FutureWarning: The frame.append method is deprecated and will be removed from pandas in a future version. Use pandas.concat instead.\n",
      "  combined_data = combined_data.append(df, ignore_index=True)\n",
      "C:\\Users\\tal66\\AppData\\Local\\Temp\\ipykernel_43092\\2133301973.py:17: FutureWarning: The frame.append method is deprecated and will be removed from pandas in a future version. Use pandas.concat instead.\n",
      "  combined_data = combined_data.append(df, ignore_index=True)\n",
      "C:\\Users\\tal66\\AppData\\Local\\Temp\\ipykernel_43092\\2133301973.py:17: FutureWarning: The frame.append method is deprecated and will be removed from pandas in a future version. Use pandas.concat instead.\n",
      "  combined_data = combined_data.append(df, ignore_index=True)\n",
      "C:\\Users\\tal66\\AppData\\Local\\Temp\\ipykernel_43092\\2133301973.py:17: FutureWarning: The frame.append method is deprecated and will be removed from pandas in a future version. Use pandas.concat instead.\n",
      "  combined_data = combined_data.append(df, ignore_index=True)\n",
      "C:\\Users\\tal66\\AppData\\Local\\Temp\\ipykernel_43092\\2133301973.py:17: FutureWarning: The frame.append method is deprecated and will be removed from pandas in a future version. Use pandas.concat instead.\n",
      "  combined_data = combined_data.append(df, ignore_index=True)\n",
      "C:\\Users\\tal66\\AppData\\Local\\Temp\\ipykernel_43092\\2133301973.py:17: FutureWarning: The frame.append method is deprecated and will be removed from pandas in a future version. Use pandas.concat instead.\n",
      "  combined_data = combined_data.append(df, ignore_index=True)\n",
      "C:\\Users\\tal66\\AppData\\Local\\Temp\\ipykernel_43092\\2133301973.py:17: FutureWarning: The frame.append method is deprecated and will be removed from pandas in a future version. Use pandas.concat instead.\n",
      "  combined_data = combined_data.append(df, ignore_index=True)\n",
      "C:\\Users\\tal66\\AppData\\Local\\Temp\\ipykernel_43092\\2133301973.py:17: FutureWarning: The frame.append method is deprecated and will be removed from pandas in a future version. Use pandas.concat instead.\n",
      "  combined_data = combined_data.append(df, ignore_index=True)\n",
      "C:\\Users\\tal66\\AppData\\Local\\Temp\\ipykernel_43092\\2133301973.py:17: FutureWarning: The frame.append method is deprecated and will be removed from pandas in a future version. Use pandas.concat instead.\n",
      "  combined_data = combined_data.append(df, ignore_index=True)\n",
      "C:\\Users\\tal66\\AppData\\Local\\Temp\\ipykernel_43092\\2133301973.py:17: FutureWarning: The frame.append method is deprecated and will be removed from pandas in a future version. Use pandas.concat instead.\n",
      "  combined_data = combined_data.append(df, ignore_index=True)\n"
     ]
    }
   ],
   "source": [
    "import os\n",
    "import pandas as pd\n",
    "\n",
    "# Folder path containing the Excel files\n",
    "folder_path = r\"C:\\Users\\tal66\\Desktop\\פרויקט טל ושקד מדעי הנתונים\\runs\"\n",
    "\n",
    "# Initialize an empty DataFrame\n",
    "combined_data = pd.DataFrame()\n",
    "\n",
    "# Iterate over files in the folder\n",
    "for filename in os.listdir(folder_path):\n",
    "    if filename.endswith(\".xlsx\") or filename.endswith(\".xls\"):\n",
    "        file_path = os.path.join(folder_path, filename)\n",
    "        # Read each Excel file into a DataFrame\n",
    "        df = pd.read_excel(file_path)\n",
    "        # Append the DataFrame to the combined_data\n",
    "        combined_data = combined_data.append(df, ignore_index=True)\n",
    "\n",
    "# Save the combined data to a new Excel file\n",
    "output_path = os.path.join(folder_path, \"combined_file.xlsx\")\n",
    "combined_data.to_excel(output_path, index=False)\n"
   ]
  },
  {
   "cell_type": "code",
   "execution_count": null,
   "id": "980a9492",
   "metadata": {},
   "outputs": [],
   "source": []
  },
  {
   "cell_type": "code",
   "execution_count": null,
   "id": "f766dd4a",
   "metadata": {},
   "outputs": [],
   "source": []
  }
 ],
 "metadata": {
  "kernelspec": {
   "display_name": "Python 3 (ipykernel)",
   "language": "python",
   "name": "python3"
  },
  "language_info": {
   "codemirror_mode": {
    "name": "ipython",
    "version": 3
   },
   "file_extension": ".py",
   "mimetype": "text/x-python",
   "name": "python",
   "nbconvert_exporter": "python",
   "pygments_lexer": "ipython3",
   "version": "3.9.13"
  }
 },
 "nbformat": 4,
 "nbformat_minor": 5
}
